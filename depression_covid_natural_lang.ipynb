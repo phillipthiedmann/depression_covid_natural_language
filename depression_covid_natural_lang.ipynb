{
 "cells": [
  {
   "metadata": {
    "ExecuteTime": {
     "end_time": "2025-05-25T13:52:39.041171Z",
     "start_time": "2025-05-25T13:52:38.986760Z"
    }
   },
   "cell_type": "code",
   "source": "",
   "id": "f0d788757af119b2",
   "outputs": [],
   "execution_count": null
  },
  {
   "metadata": {},
   "cell_type": "markdown",
   "source": [
    "# Final Project\n",
    "\n",
    "Notes:\n",
    "\n",
    "* 2009-2023\n",
    "* Trends!\n",
    "* Suicide; Accidental Deaths\n",
    "*"
   ],
   "id": "789e7f490db67379"
  },
  {
   "metadata": {
    "ExecuteTime": {
     "end_time": "2025-05-25T13:55:39.547390Z",
     "start_time": "2025-05-25T13:55:39.538170Z"
    }
   },
   "cell_type": "code",
   "source": [
    "import pandas as pd\n",
    "import datetime as dt\n",
    "import numpy as np"
   ],
   "id": "9b11df608072cb88",
   "outputs": [],
   "execution_count": 33
  },
  {
   "metadata": {
    "ExecuteTime": {
     "end_time": "2025-05-25T13:52:39.167055Z",
     "start_time": "2025-05-25T13:52:39.162004Z"
    }
   },
   "cell_type": "code",
   "source": [
    "# chunks = []\n",
    "# chunksize = 100000\n",
    "#\n",
    "# for chunk in pd.read_json('depression_submissions.ndjson', lines=True, chunksize=chunksize):\n",
    "#     chunks.append(chunk[['selftext', 'title', 'created_utc', 'author']])\n",
    "#     print(\"Chunk loaded\")\n",
    "#\n",
    "# df = pd.concat(chunks, ignore_index=True)\n",
    "# print(df.head())\n",
    "#\n",
    "# df.to_parquet('posts.parquet')"
   ],
   "id": "1fe9c47880308f7f",
   "outputs": [],
   "execution_count": 26
  },
  {
   "metadata": {
    "ExecuteTime": {
     "end_time": "2025-05-25T13:52:42.797206Z",
     "start_time": "2025-05-25T13:52:39.182774Z"
    }
   },
   "cell_type": "code",
   "source": "df = pd.read_parquet(\"posts.parquet\", engine=\"pyarrow\")",
   "id": "7e1dac49d2640b04",
   "outputs": [],
   "execution_count": 27
  },
  {
   "metadata": {
    "ExecuteTime": {
     "end_time": "2025-05-25T13:52:47.445077Z",
     "start_time": "2025-05-25T13:52:42.835844Z"
    }
   },
   "cell_type": "code",
   "source": [
    "print(df.head())\n",
    "print(df[\"selftext\"].describe())\n",
    "print(len(df))\n",
    "print(df.columns)\n",
    "print(df.dtypes)\n",
    "\n",
    "df[\"time_readable\"] = [dt.datetime.fromtimestamp(x) for x in df[\"created_utc\"].tolist()]\n",
    "\n",
    "df_filtered = df[~df[\"selftext\"].isin([\"[deleted]\", \"[removed]\"])]\n",
    "df_filtered = df_filtered[~df_filtered[\"author\"].isin([\"[deleted]\", \"[removed]\"])]\n",
    "df_filtered = df_filtered[df_filtered[\"selftext\"].str.len() > 1]\n",
    "\n",
    "df_filtered.head()\n",
    "\n"
   ],
   "id": "eb5a2817f9925e03",
   "outputs": [
    {
     "name": "stdout",
     "output_type": "stream",
     "text": [
      "    selftext                                              title  created_utc  \\\n",
      "0  [deleted]            Girls, the future and some other stuff.   1230773002   \n",
      "1  [removed]                                   Girls and stuff.   1230773772   \n",
      "2             I had plans to go out to one or more parties t...   1230780179   \n",
      "3             Nearly all of my friends are out for the night...   1230784330   \n",
      "4  [deleted]  I can't talk to girls, or really anyone in per...   1230786778   \n",
      "\n",
      "        author  \n",
      "0    [deleted]  \n",
      "1  HappyRabbit  \n",
      "2    [deleted]  \n",
      "3    [deleted]  \n",
      "4    [deleted]  \n",
      "count       1516442\n",
      "unique       925033\n",
      "top       [deleted]\n",
      "freq         379280\n",
      "Name: selftext, dtype: object\n",
      "1516442\n",
      "Index(['selftext', 'title', 'created_utc', 'author'], dtype='object')\n",
      "selftext       object\n",
      "title          object\n",
      "created_utc     int64\n",
      "author         object\n",
      "dtype: object\n"
     ]
    },
    {
     "data": {
      "text/plain": [
       "                                             selftext  \\\n",
       "65  I think a significant number of people who com...   \n",
       "72  More to the point do you ever feel unlikeable?...   \n",
       "75  I won't go too into the details. Suffice to sa...   \n",
       "77  A detailed account of an emotional breakdown.\\...   \n",
       "78  Hello Reddit i have been feeling a little down...   \n",
       "\n",
       "                                                title  created_utc  \\\n",
       "65  Could contemplating suicide ever be a purely l...   1247708506   \n",
       "72  Who else is up late right now looking at faceb...   1248926466   \n",
       "75  I'm considering submitting myself to a psychia...   1249340637   \n",
       "77                                      I'm not okay.   1249509675   \n",
       "78                        Im not sure what im feeling   1249525787   \n",
       "\n",
       "                author       time_readable  \n",
       "65  kaleidoscopeeyes21 2009-07-16 03:41:46  \n",
       "72  itsfakenameyouknow 2009-07-30 06:01:06  \n",
       "75           Soupstorm 2009-08-04 01:03:57  \n",
       "77           armakaryk 2009-08-06 00:01:15  \n",
       "78           Herropoly 2009-08-06 04:29:47  "
      ],
      "text/html": [
       "<div>\n",
       "<style scoped>\n",
       "    .dataframe tbody tr th:only-of-type {\n",
       "        vertical-align: middle;\n",
       "    }\n",
       "\n",
       "    .dataframe tbody tr th {\n",
       "        vertical-align: top;\n",
       "    }\n",
       "\n",
       "    .dataframe thead th {\n",
       "        text-align: right;\n",
       "    }\n",
       "</style>\n",
       "<table border=\"1\" class=\"dataframe\">\n",
       "  <thead>\n",
       "    <tr style=\"text-align: right;\">\n",
       "      <th></th>\n",
       "      <th>selftext</th>\n",
       "      <th>title</th>\n",
       "      <th>created_utc</th>\n",
       "      <th>author</th>\n",
       "      <th>time_readable</th>\n",
       "    </tr>\n",
       "  </thead>\n",
       "  <tbody>\n",
       "    <tr>\n",
       "      <th>65</th>\n",
       "      <td>I think a significant number of people who com...</td>\n",
       "      <td>Could contemplating suicide ever be a purely l...</td>\n",
       "      <td>1247708506</td>\n",
       "      <td>kaleidoscopeeyes21</td>\n",
       "      <td>2009-07-16 03:41:46</td>\n",
       "    </tr>\n",
       "    <tr>\n",
       "      <th>72</th>\n",
       "      <td>More to the point do you ever feel unlikeable?...</td>\n",
       "      <td>Who else is up late right now looking at faceb...</td>\n",
       "      <td>1248926466</td>\n",
       "      <td>itsfakenameyouknow</td>\n",
       "      <td>2009-07-30 06:01:06</td>\n",
       "    </tr>\n",
       "    <tr>\n",
       "      <th>75</th>\n",
       "      <td>I won't go too into the details. Suffice to sa...</td>\n",
       "      <td>I'm considering submitting myself to a psychia...</td>\n",
       "      <td>1249340637</td>\n",
       "      <td>Soupstorm</td>\n",
       "      <td>2009-08-04 01:03:57</td>\n",
       "    </tr>\n",
       "    <tr>\n",
       "      <th>77</th>\n",
       "      <td>A detailed account of an emotional breakdown.\\...</td>\n",
       "      <td>I'm not okay.</td>\n",
       "      <td>1249509675</td>\n",
       "      <td>armakaryk</td>\n",
       "      <td>2009-08-06 00:01:15</td>\n",
       "    </tr>\n",
       "    <tr>\n",
       "      <th>78</th>\n",
       "      <td>Hello Reddit i have been feeling a little down...</td>\n",
       "      <td>Im not sure what im feeling</td>\n",
       "      <td>1249525787</td>\n",
       "      <td>Herropoly</td>\n",
       "      <td>2009-08-06 04:29:47</td>\n",
       "    </tr>\n",
       "  </tbody>\n",
       "</table>\n",
       "</div>"
      ]
     },
     "execution_count": 28,
     "metadata": {},
     "output_type": "execute_result"
    }
   ],
   "execution_count": 28
  },
  {
   "metadata": {
    "ExecuteTime": {
     "end_time": "2025-05-25T13:52:52.436313Z",
     "start_time": "2025-05-25T13:52:47.525176Z"
    }
   },
   "cell_type": "code",
   "source": "df_filtered.to_parquet(\"filtered_posts.parquet\", engine=\"pyarrow\")",
   "id": "14c2ac04f84d41ff",
   "outputs": [],
   "execution_count": 29
  },
  {
   "metadata": {
    "ExecuteTime": {
     "end_time": "2025-05-25T13:57:31.068655Z",
     "start_time": "2025-05-25T13:57:28.653310Z"
    }
   },
   "cell_type": "code",
   "source": [
    "print(len(df_filtered))\n",
    "np.mean([len(x) for x in df_filtered[\"selftext\"]])"
   ],
   "id": "bb284b926af58375",
   "outputs": [
    {
     "name": "stdout",
     "output_type": "stream",
     "text": [
      "839190\n"
     ]
    },
    {
     "data": {
      "text/plain": [
       "np.float64(1037.6763486218854)"
      ]
     },
     "execution_count": 34,
     "metadata": {},
     "output_type": "execute_result"
    }
   ],
   "execution_count": 34
  }
 ],
 "metadata": {
  "kernelspec": {
   "name": "python3",
   "language": "python",
   "display_name": "Python (python3)"
  }
 },
 "nbformat": 5,
 "nbformat_minor": 9
}
